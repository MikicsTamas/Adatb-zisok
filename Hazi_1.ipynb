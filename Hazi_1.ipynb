{
    "metadata": {
        "kernelspec": {
            "name": "SQL",
            "display_name": "SQL",
            "language": "sql"
        },
        "language_info": {
            "name": "sql",
            "version": ""
        }
    },
    "nbformat_minor": 2,
    "nbformat": 4,
    "cells": [
        {
            "cell_type": "code",
            "source": [
                "SELECT Tantárgynév,\r\n",
                "       Kredit \r\n",
                "FROM Tantárgyak\r\n",
                "GROUP BY Tantárgynév, Kredit\r\n",
                "HAVING MAX(Kredit) <= 6 AND MIN(Kredit) >= 3"
            ],
            "metadata": {
                "azdata_cell_guid": "ea095b28-a571-4a2f-a206-e427f4edcd58",
                "language": "sql"
            },
            "outputs": [
                {
                    "output_type": "display_data",
                    "data": {
                        "text/html": "(7 rows affected)"
                    },
                    "metadata": {}
                },
                {
                    "output_type": "display_data",
                    "data": {
                        "text/html": "Total execution time: 00:00:00.027"
                    },
                    "metadata": {}
                },
                {
                    "output_type": "execute_result",
                    "execution_count": 17,
                    "data": {
                        "application/vnd.dataresource+json": {
                            "schema": {
                                "fields": [
                                    {
                                        "name": "Tantárgynév"
                                    },
                                    {
                                        "name": "Kredit"
                                    }
                                ]
                            },
                            "data": [
                                {
                                    "Tantárgynév": "Bevezetés az ürgeöntésbe",
                                    "Kredit": "3"
                                },
                                {
                                    "Tantárgynév": "Fejezetek az ürgék jogaiból",
                                    "Kredit": "3"
                                },
                                {
                                    "Tantárgynév": "ürgefőzés",
                                    "Kredit": "3"
                                },
                                {
                                    "Tantárgynév": "Az öntés elmélete",
                                    "Kredit": "4"
                                },
                                {
                                    "Tantárgynév": "Az ürgeöntés hydrológiai alapjai II.",
                                    "Kredit": "4"
                                },
                                {
                                    "Tantárgynév": "Az ürge anatómiája",
                                    "Kredit": "5"
                                },
                                {
                                    "Tantárgynév": "Ürgevitel",
                                    "Kredit": "6"
                                }
                            ]
                        },
                        "text/html": "<table><tr><th>Tantárgynév</th><th>Kredit</th></tr><tr><td>Bevezetés az ürgeöntésbe</td><td>3</td></tr><tr><td>Fejezetek az ürgék jogaiból</td><td>3</td></tr><tr><td>ürgefőzés</td><td>3</td></tr><tr><td>Az öntés elmélete</td><td>4</td></tr><tr><td>Az ürgeöntés hydrológiai alapjai II.</td><td>4</td></tr><tr><td>Az ürge anatómiája</td><td>5</td></tr><tr><td>Ürgevitel</td><td>6</td></tr></table>"
                    },
                    "metadata": {}
                }
            ],
            "execution_count": 17
        },
        {
            "cell_type": "code",
            "source": [
                "SELECT Tantárgynév\r\n",
                "FROM Tantárgyak\r\n",
                "WHERE Tantárgynév LIKE '%ürge%' AND LEN(Tantárgynév) BETWEEN 10 AND 20"
            ],
            "metadata": {
                "language": "sql",
                "azdata_cell_guid": "d56f5278-bbcb-44de-ba24-e4f1204e990d"
            },
            "outputs": [
                {
                    "output_type": "display_data",
                    "data": {
                        "text/html": "(3 rows affected)"
                    },
                    "metadata": {}
                },
                {
                    "output_type": "display_data",
                    "data": {
                        "text/html": "Total execution time: 00:00:00.033"
                    },
                    "metadata": {}
                },
                {
                    "output_type": "execute_result",
                    "metadata": {},
                    "execution_count": 6,
                    "data": {
                        "application/vnd.dataresource+json": {
                            "schema": {
                                "fields": [
                                    {
                                        "name": "Tantárgynév"
                                    }
                                ]
                            },
                            "data": [
                                {
                                    "Tantárgynév": "Az ürgeöntés alapjai"
                                },
                                {
                                    "Tantárgynév": "Az ürge anatómiája"
                                },
                                {
                                    "Tantárgynév": "Ürgeöntés az EU-ban"
                                }
                            ]
                        },
                        "text/html": [
                            "<table>",
                            "<tr><th>Tantárgynév</th></tr>",
                            "<tr><td>Az ürgeöntés alapjai</td></tr>",
                            "<tr><td>Az ürge anatómiája</td></tr>",
                            "<tr><td>Ürgeöntés az EU-ban</td></tr>",
                            "</table>"
                        ]
                    }
                }
            ],
            "execution_count": 6
        }
    ]
}