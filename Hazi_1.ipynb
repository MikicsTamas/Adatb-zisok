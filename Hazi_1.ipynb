{
    "metadata": {
        "kernelspec": {
            "name": "SQL",
            "display_name": "SQL",
            "language": "sql"
        },
        "language_info": {
            "name": "sql",
            "version": ""
        }
    },
    "nbformat_minor": 2,
    "nbformat": 4,
    "cells": [
        {
            "cell_type": "code",
            "source": [
                "SELECT Tantárgynév,\r\n",
                "       Kredit \r\n",
                "FROM Tantárgyak\r\n",
                "GROUP BY Tantárgynév, Kredit\r\n",
                "HAVING MAX(Kredit) <= 6 AND MIN(Kredit) >= 3"
            ],
            "metadata": {
                "azdata_cell_guid": "ea095b28-a571-4a2f-a206-e427f4edcd58",
                "language": "sql"
            },
            "outputs": [
                {
                    "output_type": "display_data",
                    "data": {
                        "text/html": "(7 rows affected)"
                    },
                    "metadata": {}
                },
                {
                    "output_type": "display_data",
                    "data": {
                        "text/html": "Total execution time: 00:00:00.027"
                    },
                    "metadata": {}
                },
                {
                    "output_type": "execute_result",
                    "execution_count": 17,
                    "data": {
                        "application/vnd.dataresource+json": {
                            "schema": {
                                "fields": [
                                    {
                                        "name": "Tantárgynév"
                                    },
                                    {
                                        "name": "Kredit"
                                    }
                                ]
                            },
                            "data": [
                                {
                                    "Tantárgynév": "Bevezetés az ürgeöntésbe",
                                    "Kredit": "3"
                                },
                                {
                                    "Tantárgynév": "Fejezetek az ürgék jogaiból",
                                    "Kredit": "3"
                                },
                                {
                                    "Tantárgynév": "ürgefőzés",
                                    "Kredit": "3"
                                },
                                {
                                    "Tantárgynév": "Az öntés elmélete",
                                    "Kredit": "4"
                                },
                                {
                                    "Tantárgynév": "Az ürgeöntés hydrológiai alapjai II.",
                                    "Kredit": "4"
                                },
                                {
                                    "Tantárgynév": "Az ürge anatómiája",
                                    "Kredit": "5"
                                },
                                {
                                    "Tantárgynév": "Ürgevitel",
                                    "Kredit": "6"
                                }
                            ]
                        },
                        "text/html": "<table><tr><th>Tantárgynév</th><th>Kredit</th></tr><tr><td>Bevezetés az ürgeöntésbe</td><td>3</td></tr><tr><td>Fejezetek az ürgék jogaiból</td><td>3</td></tr><tr><td>ürgefőzés</td><td>3</td></tr><tr><td>Az öntés elmélete</td><td>4</td></tr><tr><td>Az ürgeöntés hydrológiai alapjai II.</td><td>4</td></tr><tr><td>Az ürge anatómiája</td><td>5</td></tr><tr><td>Ürgevitel</td><td>6</td></tr></table>"
                    },
                    "metadata": {}
                }
            ],
            "execution_count": 17
        },
        {
            "cell_type": "code",
            "source": [
                "SELECT Tantárgynév\r\n",
                "FROM Tantárgyak\r\n",
                "WHERE Tantárgynév LIKE '%ürge%' AND LEN(Tantárgynév) BETWEEN 10 AND 20"
            ],
            "metadata": {
                "language": "sql",
                "azdata_cell_guid": "d56f5278-bbcb-44de-ba24-e4f1204e990d"
            },
            "outputs": [
                {
                    "output_type": "display_data",
                    "data": {
                        "text/html": "(3 rows affected)"
                    },
                    "metadata": {}
                },
                {
                    "output_type": "display_data",
                    "data": {
                        "text/html": "Total execution time: 00:00:00.033"
                    },
                    "metadata": {}
                },
                {
                    "output_type": "execute_result",
                    "execution_count": 6,
                    "data": {
                        "application/vnd.dataresource+json": {
                            "schema": {
                                "fields": [
                                    {
                                        "name": "Tantárgynév"
                                    }
                                ]
                            },
                            "data": [
                                {
                                    "Tantárgynév": "Az ürgeöntés alapjai"
                                },
                                {
                                    "Tantárgynév": "Az ürge anatómiája"
                                },
                                {
                                    "Tantárgynév": "Ürgeöntés az EU-ban"
                                }
                            ]
                        },
                        "text/html": "<table><tr><th>Tantárgynév</th></tr><tr><td>Az ürgeöntés alapjai</td></tr><tr><td>Az ürge anatómiája</td></tr><tr><td>Ürgeöntés az EU-ban</td></tr></table>"
                    },
                    "metadata": {}
                }
            ],
            "execution_count": 6
        },
        {
            "cell_type": "code",
            "source": [
                "SELECT TOP 5 Tantárgynév AS string,\r\n",
                "       LEN(Tantárgynév) AS 'Tantárgynév hossza karakterben' \r\n",
                "FROM Tantárgyak\r\n",
                "GROUP BY Tantárgynév\r\n",
                "ORDER BY 2 DESC"
            ],
            "metadata": {
                "language": "sql",
                "azdata_cell_guid": "82e3808c-36ae-4c28-acbf-10f913c3c6b2"
            },
            "outputs": [
                {
                    "output_type": "display_data",
                    "data": {
                        "text/html": "(5 rows affected)"
                    },
                    "metadata": {}
                },
                {
                    "output_type": "display_data",
                    "data": {
                        "text/html": "Total execution time: 00:00:00.032"
                    },
                    "metadata": {}
                },
                {
                    "output_type": "execute_result",
                    "execution_count": 17,
                    "data": {
                        "application/vnd.dataresource+json": {
                            "schema": {
                                "fields": [
                                    {
                                        "name": "string"
                                    },
                                    {
                                        "name": "Tantárgynév hossza karakterben"
                                    }
                                ]
                            },
                            "data": [
                                {
                                    "string": "Az ürgeöntés hydrológiai alapjai II.",
                                    "Tantárgynév hossza karakterben": "36"
                                },
                                {
                                    "string": "Az ürgeöntés hydrológiai alapjai I.",
                                    "Tantárgynév hossza karakterben": "35"
                                },
                                {
                                    "string": "Fejezetek az ürgék jogaiból",
                                    "Tantárgynév hossza karakterben": "27"
                                },
                                {
                                    "string": "Bevezetés az ürgeöntésbe",
                                    "Tantárgynév hossza karakterben": "24"
                                },
                                {
                                    "string": "Az ürgeöntés alapjai",
                                    "Tantárgynév hossza karakterben": "20"
                                }
                            ]
                        },
                        "text/html": "<table><tr><th>string</th><th>Tantárgynév hossza karakterben</th></tr><tr><td>Az ürgeöntés hydrológiai alapjai II.</td><td>36</td></tr><tr><td>Az ürgeöntés hydrológiai alapjai I.</td><td>35</td></tr><tr><td>Fejezetek az ürgék jogaiból</td><td>27</td></tr><tr><td>Bevezetés az ürgeöntésbe</td><td>24</td></tr><tr><td>Az ürgeöntés alapjai</td><td>20</td></tr></table>"
                    },
                    "metadata": {}
                }
            ],
            "execution_count": 17
        },
        {
            "cell_type": "code",
            "source": [
                "SELECT titulus AS VALUE,\r\n",
                "       COUNT(*) AS 'Értékek száma'\r\n",
                "FROM Oktatok\r\n",
                "WHERE titulus IS NOT NULL\r\n",
                "GROUP BY titulus\r\n",
                "ORDER BY 1"
            ],
            "metadata": {
                "language": "sql",
                "azdata_cell_guid": "4aa939ae-0059-4906-bb18-79ffa94de6fd"
            },
            "outputs": [
                {
                    "output_type": "display_data",
                    "data": {
                        "text/html": "(3 rows affected)"
                    },
                    "metadata": {}
                },
                {
                    "output_type": "display_data",
                    "data": {
                        "text/html": "Total execution time: 00:00:00.033"
                    },
                    "metadata": {}
                },
                {
                    "output_type": "execute_result",
                    "execution_count": 28,
                    "data": {
                        "application/vnd.dataresource+json": {
                            "schema": {
                                "fields": [
                                    {
                                        "name": "VALUE"
                                    },
                                    {
                                        "name": "Értékek száma"
                                    }
                                ]
                            },
                            "data": [
                                {
                                    "VALUE": "Dr.",
                                    "Értékek száma": "8"
                                },
                                {
                                    "VALUE": "Prof, tanszékvezető",
                                    "Értékek száma": "1"
                                },
                                {
                                    "VALUE": "Prof.",
                                    "Értékek száma": "1"
                                }
                            ]
                        },
                        "text/html": "<table><tr><th>VALUE</th><th>Értékek száma</th></tr><tr><td>Dr.</td><td>8</td></tr><tr><td>Prof, tanszékvezető</td><td>1</td></tr><tr><td>Prof.</td><td>1</td></tr></table>"
                    },
                    "metadata": {}
                }
            ],
            "execution_count": 28
        },
        {
            "cell_type": "code",
            "source": [
                "SELECT nev\r\n",
                "FROM Oktatok\r\n",
                "WHERE LEN(nev) BETWEEN 12 AND 15 AND nev NOT LIKE '%ás%' AND nev NOT LIKE '%ló%'\r\n",
                "ORDER BY nev ASC"
            ],
            "metadata": {
                "language": "sql",
                "azdata_cell_guid": "7cb63d31-b5b9-450d-be40-6a5f1330847d"
            },
            "outputs": [
                {
                    "output_type": "display_data",
                    "data": {
                        "text/html": "(6 rows affected)"
                    },
                    "metadata": {}
                },
                {
                    "output_type": "display_data",
                    "data": {
                        "text/html": "Total execution time: 00:00:00.025"
                    },
                    "metadata": {}
                },
                {
                    "output_type": "execute_result",
                    "execution_count": 6,
                    "data": {
                        "application/vnd.dataresource+json": {
                            "schema": {
                                "fields": [
                                    {
                                        "name": "nev"
                                    }
                                ]
                            },
                            "data": [
                                {
                                    "nev": "Aranyi Mária"
                                },
                                {
                                    "nev": "Jogrerős Pál"
                                },
                                {
                                    "nev": "Kovacs Istvan"
                                },
                                {
                                    "nev": "Nógrádi Kata"
                                },
                                {
                                    "nev": "Pelikán József"
                                },
                                {
                                    "nev": "Szabó Andrera"
                                }
                            ]
                        },
                        "text/html": "<table><tr><th>nev</th></tr><tr><td>Aranyi Mária</td></tr><tr><td>Jogrerős Pál</td></tr><tr><td>Kovacs Istvan</td></tr><tr><td>Nógrádi Kata</td></tr><tr><td>Pelikán József</td></tr><tr><td>Szabó Andrera</td></tr></table>"
                    },
                    "metadata": {}
                }
            ],
            "execution_count": 6
        },
        {
            "cell_type": "code",
            "source": [
                "SELECT MIN(LEN(nev)) AS 'Min név hossz',\r\n",
                "       MAX(LEN(nev)) AS 'Max név hossz',\r\n",
                "       AVG(LEN(nev)) AS 'Átlag név hossz'\r\n",
                "FROM Oktatok\r\n",
                "--WHERE nev IS NOT NULL AND LEN(nev) BETWEEN 12 AND 15"
            ],
            "metadata": {
                "language": "sql",
                "azdata_cell_guid": "728e035f-1c50-4267-bf59-6bd833d0e034"
            },
            "outputs": [
                {
                    "output_type": "display_data",
                    "data": {
                        "text/html": "(1 row affected)"
                    },
                    "metadata": {}
                },
                {
                    "output_type": "display_data",
                    "data": {
                        "text/html": "Total execution time: 00:00:00.019"
                    },
                    "metadata": {}
                },
                {
                    "output_type": "execute_result",
                    "execution_count": 4,
                    "data": {
                        "application/vnd.dataresource+json": {
                            "schema": {
                                "fields": [
                                    {
                                        "name": "Min név hossz"
                                    },
                                    {
                                        "name": "Max név hossz"
                                    },
                                    {
                                        "name": "Átlag név hossz"
                                    }
                                ]
                            },
                            "data": [
                                {
                                    "Min név hossz": "10",
                                    "Max név hossz": "18",
                                    "Átlag név hossz": "12"
                                }
                            ]
                        },
                        "text/html": "<table><tr><th>Min név hossz</th><th>Max név hossz</th><th>Átlag név hossz</th></tr><tr><td>10</td><td>18</td><td>12</td></tr></table>"
                    },
                    "metadata": {}
                }
            ],
            "execution_count": 4
        },
        {
            "cell_type": "code",
            "source": [
                "SELECT COUNT(*) AS 'Órák száma',\r\n",
                "       okt.nev AS 'Oktató neve', \r\n",
                "       b.beosztasnev AS 'Beosztás neve',\r\n",
                "       CASE WHEN COUNT(*) - b.elvart > 5 THEN 'Sok túlóra'\r\n",
                "            WHEN COUNT(*) - b.elvart BETWEEN 3 AND 5 THEN 'Közepes túlóra'\r\n",
                "            WHEN COUNT(*) - b.elvart BETWEEN 1 AND 3 THEN 'Kicsi túlóra'\r\n",
                "            ELSE 'Nincs túlóra'\r\n",
                "       END AS 'Túlóra mennyisége'     \r\n",
                "FROM Oktatok okt JOIN Orak o ON okt.oktato_id = o.tanar\r\n",
                "                 JOIN Beosztasok b ON b.beosztas_id = okt.beosztás\r\n",
                "GROUP BY okt.nev, b.beosztasnev, b.elvart\r\n",
                "ORDER BY okt.nev, b.beosztasnev"
            ],
            "metadata": {
                "language": "sql",
                "azdata_cell_guid": "b27545d4-7633-46c2-8cc0-4404890da4ca"
            },
            "outputs": [
                {
                    "output_type": "display_data",
                    "data": {
                        "text/html": "(20 rows affected)"
                    },
                    "metadata": {}
                },
                {
                    "output_type": "display_data",
                    "data": {
                        "text/html": "Total execution time: 00:00:00.035"
                    },
                    "metadata": {}
                },
                {
                    "output_type": "execute_result",
                    "execution_count": 13,
                    "data": {
                        "application/vnd.dataresource+json": {
                            "schema": {
                                "fields": [
                                    {
                                        "name": "Órák száma"
                                    },
                                    {
                                        "name": "Oktató neve"
                                    },
                                    {
                                        "name": "Beosztás neve"
                                    },
                                    {
                                        "name": "Túlóra mennyisége"
                                    }
                                ]
                            },
                            "data": [
                                {
                                    "Órák száma": "1",
                                    "Oktató neve": "Aranyi Mária",
                                    "Beosztás neve": "Óraadó",
                                    "Túlóra mennyisége": "Nincs túlóra"
                                },
                                {
                                    "Órák száma": "3",
                                    "Oktató neve": "Balkán András",
                                    "Beosztás neve": "Docens",
                                    "Túlóra mennyisége": "Nincs túlóra"
                                },
                                {
                                    "Órák száma": "7",
                                    "Oktató neve": "Farkasos Piroska",
                                    "Beosztás neve": "Tanársegéd",
                                    "Túlóra mennyisége": "Kicsi túlóra"
                                },
                                {
                                    "Órák száma": "2",
                                    "Oktató neve": "Jogrerős Pál",
                                    "Beosztás neve": "Egyetemi tanár",
                                    "Túlóra mennyisége": "Nincs túlóra"
                                },
                                {
                                    "Órák száma": "2",
                                    "Oktató neve": "Juhász András",
                                    "Beosztás neve": "Egyetemi tanár",
                                    "Túlóra mennyisége": "Nincs túlóra"
                                },
                                {
                                    "Órák száma": "4",
                                    "Oktató neve": "Kiss János",
                                    "Beosztás neve": "Tanársegéd",
                                    "Túlóra mennyisége": "Nincs túlóra"
                                },
                                {
                                    "Órák száma": "4",
                                    "Oktató neve": "Kovács András",
                                    "Beosztás neve": "Óraadó",
                                    "Túlóra mennyisége": "Nincs túlóra"
                                },
                                {
                                    "Órák száma": "4",
                                    "Oktató neve": "Kovács László",
                                    "Beosztás neve": "Egyetemi tanár",
                                    "Túlóra mennyisége": "Kicsi túlóra"
                                },
                                {
                                    "Órák száma": "2",
                                    "Oktató neve": "Ludas Mátyás",
                                    "Beosztás neve": "Óraadó",
                                    "Túlóra mennyisége": "Nincs túlóra"
                                },
                                {
                                    "Órák száma": "1",
                                    "Oktató neve": "Nógrádi Kata",
                                    "Beosztás neve": "Óraadó",
                                    "Túlóra mennyisége": "Nincs túlóra"
                                },
                                {
                                    "Órák száma": "6",
                                    "Oktató neve": "Pelikán József",
                                    "Beosztás neve": "Tanársegéd",
                                    "Túlóra mennyisége": "Nincs túlóra"
                                },
                                {
                                    "Órák száma": "1",
                                    "Oktató neve": "Róbert Gida",
                                    "Beosztás neve": "Tanársegéd",
                                    "Túlóra mennyisége": "Nincs túlóra"
                                },
                                {
                                    "Órák száma": "2",
                                    "Oktató neve": "Szabó Andrera",
                                    "Beosztás neve": "Óraadó",
                                    "Túlóra mennyisége": "Nincs túlóra"
                                },
                                {
                                    "Órák száma": "2",
                                    "Oktató neve": "Szénási ászló",
                                    "Beosztás neve": "Adjunktus",
                                    "Túlóra mennyisége": "Nincs túlóra"
                                },
                                {
                                    "Órák száma": "8",
                                    "Oktató neve": "Szentágotai Istvás",
                                    "Beosztás neve": "Adjunktus",
                                    "Túlóra mennyisége": "Közepes túlóra"
                                },
                                {
                                    "Órák száma": "4",
                                    "Oktató neve": "Szép llonka",
                                    "Beosztás neve": "Adjunktus",
                                    "Túlóra mennyisége": "Nincs túlóra"
                                },
                                {
                                    "Órák száma": "3",
                                    "Oktató neve": "Szerb László",
                                    "Beosztás neve": "Docens",
                                    "Túlóra mennyisége": "Nincs túlóra"
                                },
                                {
                                    "Órák száma": "3",
                                    "Oktató neve": "Ujfalussi István",
                                    "Beosztás neve": "Egyetemi tanár",
                                    "Túlóra mennyisége": "Kicsi túlóra"
                                },
                                {
                                    "Órák száma": "4",
                                    "Oktató neve": "Varga Kata",
                                    "Beosztás neve": "Docens",
                                    "Túlóra mennyisége": "Nincs túlóra"
                                },
                                {
                                    "Órák száma": "4",
                                    "Oktató neve": "Vitéz János",
                                    "Beosztás neve": "Tanársegéd",
                                    "Túlóra mennyisége": "Nincs túlóra"
                                }
                            ]
                        },
                        "text/html": "<table><tr><th>Órák száma</th><th>Oktató neve</th><th>Beosztás neve</th><th>Túlóra mennyisége</th></tr><tr><td>1</td><td>Aranyi Mária</td><td>Óraadó</td><td>Nincs túlóra</td></tr><tr><td>3</td><td>Balkán András</td><td>Docens</td><td>Nincs túlóra</td></tr><tr><td>7</td><td>Farkasos Piroska</td><td>Tanársegéd</td><td>Kicsi túlóra</td></tr><tr><td>2</td><td>Jogrerős Pál</td><td>Egyetemi tanár</td><td>Nincs túlóra</td></tr><tr><td>2</td><td>Juhász András</td><td>Egyetemi tanár</td><td>Nincs túlóra</td></tr><tr><td>4</td><td>Kiss János</td><td>Tanársegéd</td><td>Nincs túlóra</td></tr><tr><td>4</td><td>Kovács András</td><td>Óraadó</td><td>Nincs túlóra</td></tr><tr><td>4</td><td>Kovács László</td><td>Egyetemi tanár</td><td>Kicsi túlóra</td></tr><tr><td>2</td><td>Ludas Mátyás</td><td>Óraadó</td><td>Nincs túlóra</td></tr><tr><td>1</td><td>Nógrádi Kata</td><td>Óraadó</td><td>Nincs túlóra</td></tr><tr><td>6</td><td>Pelikán József</td><td>Tanársegéd</td><td>Nincs túlóra</td></tr><tr><td>1</td><td>Róbert Gida</td><td>Tanársegéd</td><td>Nincs túlóra</td></tr><tr><td>2</td><td>Szabó Andrera</td><td>Óraadó</td><td>Nincs túlóra</td></tr><tr><td>2</td><td>Szénási ászló</td><td>Adjunktus</td><td>Nincs túlóra</td></tr><tr><td>8</td><td>Szentágotai Istvás</td><td>Adjunktus</td><td>Közepes túlóra</td></tr><tr><td>4</td><td>Szép llonka</td><td>Adjunktus</td><td>Nincs túlóra</td></tr><tr><td>3</td><td>Szerb László</td><td>Docens</td><td>Nincs túlóra</td></tr><tr><td>3</td><td>Ujfalussi István</td><td>Egyetemi tanár</td><td>Kicsi túlóra</td></tr><tr><td>4</td><td>Varga Kata</td><td>Docens</td><td>Nincs túlóra</td></tr><tr><td>4</td><td>Vitéz János</td><td>Tanársegéd</td><td>Nincs túlóra</td></tr></table>"
                    },
                    "metadata": {}
                }
            ],
            "execution_count": 13
        }
    ]
}