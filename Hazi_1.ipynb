{
    "metadata": {
        "kernelspec": {
            "name": "SQL",
            "display_name": "SQL",
            "language": "sql"
        },
        "language_info": {
            "name": "sql",
            "version": ""
        }
    },
    "nbformat_minor": 2,
    "nbformat": 4,
    "cells": [
        {
            "cell_type": "code",
            "source": [
                "SELECT Tantárgynév,\r\n",
                "       Kredit \r\n",
                "FROM Tantárgyak\r\n",
                "GROUP BY Tantárgynév, Kredit\r\n",
                "HAVING MAX(Kredit) <= 6 AND MIN(Kredit) >= 3"
            ],
            "metadata": {
                "azdata_cell_guid": "ea095b28-a571-4a2f-a206-e427f4edcd58",
                "language": "sql"
            },
            "outputs": [
                {
                    "output_type": "display_data",
                    "data": {
                        "text/html": "(7 rows affected)"
                    },
                    "metadata": {}
                },
                {
                    "output_type": "display_data",
                    "data": {
                        "text/html": "Total execution time: 00:00:00.027"
                    },
                    "metadata": {}
                },
                {
                    "output_type": "execute_result",
                    "execution_count": 17,
                    "data": {
                        "application/vnd.dataresource+json": {
                            "schema": {
                                "fields": [
                                    {
                                        "name": "Tantárgynév"
                                    },
                                    {
                                        "name": "Kredit"
                                    }
                                ]
                            },
                            "data": [
                                {
                                    "Tantárgynév": "Bevezetés az ürgeöntésbe",
                                    "Kredit": "3"
                                },
                                {
                                    "Tantárgynév": "Fejezetek az ürgék jogaiból",
                                    "Kredit": "3"
                                },
                                {
                                    "Tantárgynév": "ürgefőzés",
                                    "Kredit": "3"
                                },
                                {
                                    "Tantárgynév": "Az öntés elmélete",
                                    "Kredit": "4"
                                },
                                {
                                    "Tantárgynév": "Az ürgeöntés hydrológiai alapjai II.",
                                    "Kredit": "4"
                                },
                                {
                                    "Tantárgynév": "Az ürge anatómiája",
                                    "Kredit": "5"
                                },
                                {
                                    "Tantárgynév": "Ürgevitel",
                                    "Kredit": "6"
                                }
                            ]
                        },
                        "text/html": "<table><tr><th>Tantárgynév</th><th>Kredit</th></tr><tr><td>Bevezetés az ürgeöntésbe</td><td>3</td></tr><tr><td>Fejezetek az ürgék jogaiból</td><td>3</td></tr><tr><td>ürgefőzés</td><td>3</td></tr><tr><td>Az öntés elmélete</td><td>4</td></tr><tr><td>Az ürgeöntés hydrológiai alapjai II.</td><td>4</td></tr><tr><td>Az ürge anatómiája</td><td>5</td></tr><tr><td>Ürgevitel</td><td>6</td></tr></table>"
                    },
                    "metadata": {}
                }
            ],
            "execution_count": 17
        },
        {
            "cell_type": "code",
            "source": [
                "SELECT nev\r\n",
                "FROM Oktatok"
            ],
            "metadata": {
                "language": "sql",
                "azdata_cell_guid": "d56f5278-bbcb-44de-ba24-e4f1204e990d"
            },
            "outputs": [
                {
                    "output_type": "display_data",
                    "data": {
                        "text/html": "(25 rows affected)"
                    },
                    "metadata": {}
                },
                {
                    "output_type": "display_data",
                    "data": {
                        "text/html": "Total execution time: 00:00:00.095"
                    },
                    "metadata": {}
                },
                {
                    "output_type": "execute_result",
                    "execution_count": 1,
                    "data": {
                        "application/vnd.dataresource+json": {
                            "schema": {
                                "fields": [
                                    {
                                        "name": "nev"
                                    }
                                ]
                            },
                            "data": [
                                {
                                    "nev": "Kovács László"
                                },
                                {
                                    "nev": "Szentágotai Istvás"
                                },
                                {
                                    "nev": "Szerb László"
                                },
                                {
                                    "nev": "Ujfalussi István"
                                },
                                {
                                    "nev": "Balkán András"
                                },
                                {
                                    "nev": "Szép llonka"
                                },
                                {
                                    "nev": "Kiss János"
                                },
                                {
                                    "nev": "Pelikán József"
                                },
                                {
                                    "nev": "Farkasos Piroska"
                                },
                                {
                                    "nev": "Jogrerős Pál"
                                },
                                {
                                    "nev": "Józsa Gábor"
                                },
                                {
                                    "nev": "Varga Kata"
                                },
                                {
                                    "nev": "Szénási ászló"
                                },
                                {
                                    "nev": "Nógrádi Kata"
                                },
                                {
                                    "nev": "Rácz András"
                                },
                                {
                                    "nev": "Kovács András"
                                },
                                {
                                    "nev": "Ludas Mátyás"
                                },
                                {
                                    "nev": "Kiss István"
                                },
                                {
                                    "nev": "Mészáros Kriszta"
                                },
                                {
                                    "nev": "Róbert Gida"
                                },
                                {
                                    "nev": "Vitéz János"
                                },
                                {
                                    "nev": "Aranyi Mária"
                                },
                                {
                                    "nev": "Szabó Andrera"
                                },
                                {
                                    "nev": "Juhász András"
                                },
                                {
                                    "nev": "Kovacs Istvan"
                                }
                            ]
                        },
                        "text/html": "<table><tr><th>nev</th></tr><tr><td>Kovács László</td></tr><tr><td>Szentágotai Istvás</td></tr><tr><td>Szerb László</td></tr><tr><td>Ujfalussi István</td></tr><tr><td>Balkán András</td></tr><tr><td>Szép llonka</td></tr><tr><td>Kiss János</td></tr><tr><td>Pelikán József</td></tr><tr><td>Farkasos Piroska</td></tr><tr><td>Jogrerős Pál</td></tr><tr><td>Józsa Gábor</td></tr><tr><td>Varga Kata</td></tr><tr><td>Szénási ászló</td></tr><tr><td>Nógrádi Kata</td></tr><tr><td>Rácz András</td></tr><tr><td>Kovács András</td></tr><tr><td>Ludas Mátyás</td></tr><tr><td>Kiss István</td></tr><tr><td>Mészáros Kriszta</td></tr><tr><td>Róbert Gida</td></tr><tr><td>Vitéz János</td></tr><tr><td>Aranyi Mária</td></tr><tr><td>Szabó Andrera</td></tr><tr><td>Juhász András</td></tr><tr><td>Kovacs Istvan</td></tr></table>"
                    },
                    "metadata": {}
                }
            ],
            "execution_count": 1
        }
    ]
}